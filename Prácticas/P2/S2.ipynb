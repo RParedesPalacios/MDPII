{
 "cells": [
  {
   "cell_type": "markdown",
   "metadata": {},
   "source": [
    "## Práctica de vecinos más cercanos (continuación)\n",
    "\n",
    "## Objetivos formativos\n",
    "- Emplear diferentes métricas\n",
    "- Normalización de datos\n",
    "- Emplear PCA para reducir dimensionalidad de los datos y potencialmente mejorar resultados\n",
    "- Introducir el concepto de Pipeline en sklearn\n",
    "- Emplear los k-vecinos más cercanos como regresor \n",
    "\n",
    "## Métricas\n",
    "\n",
    "La función de distancia empleada por defecto es la distancia euclídea. Pero podríamos probar diferentes métricas:\n",
    "\n"
   ]
  },
  {
   "cell_type": "code",
   "execution_count": null,
   "metadata": {},
   "outputs": [],
   "source": [
    "from sklearn import datasets\n",
    "from sklearn.neighbors import KNeighborsClassifier\n",
    "from sklearn.model_selection import GridSearchCV\n",
    "from sklearn.model_selection import train_test_split\n",
    "\n",
    "digits = datasets.load_digits()\n",
    "print(digits.images.shape)\n",
    "\n",
    "n_samples = len(digits.images)\n",
    "X=digits.images.reshape(n_samples,-1)\n",
    "Y=digits.target\n",
    "\n",
    "X_train, X_test, y_train, y_test = train_test_split(X, Y, test_size=0.2, shuffle=True, random_state=12)\n",
    "\n",
    "# Creamos un diccionario con todos los parámetros a modificar\n",
    "G = {\"n_neighbors\":range(1,10,2), \"metric\":[\"l2\",\"l1\"]}  \n",
    "\n",
    "GS = GridSearchCV(KNeighborsClassifier(), G, scoring='accuracy', refit=True, cv=5) # validación cruzada de 5 particiones\n",
    "\n",
    "knn = GS.fit(X_train, y_train)\n",
    "print(GS.cv_results_[\"params\"])\n",
    "print(GS.cv_results_[\"mean_test_score\"])\n",
    "\n",
    "acc= knn.score(X_test, y_test)\n",
    "print(f'Precisión: {acc:.1%} con {GS.best_params_}')\n"
   ]
  },
  {
   "cell_type": "markdown",
   "metadata": {},
   "source": [
    "## Normalización y PCA\n",
    "\n",
    "Además KNN podría beneficiarse de una normaliación de los datos y una proyección mediante PCA con el fin de reducir la dimensionalidad y potencialmente mejorar los resultados. Para ello vamos a implementar un PipeLine preproceso-clasificador:"
   ]
  },
  {
   "cell_type": "code",
   "execution_count": null,
   "metadata": {},
   "outputs": [],
   "source": [
    "from sklearn.preprocessing import StandardScaler\n",
    "from sklearn.decomposition import PCA\n",
    "from sklearn.pipeline import Pipeline;\n",
    "\n",
    "scaler = StandardScaler() # x=(x-media)/desviación_típica\n",
    "pca = PCA() # parámetro n_components que puede tomar valores en [1,dim] en este caso: [1,64]\n",
    "knn = KNeighborsClassifier()\n",
    "\n",
    "# definimos un pipeline\n",
    "pipe = Pipeline(steps=[(\"scaler\", scaler), (\"pca\", pca), (\"knn\", knn)])\n",
    "\n",
    "# definimos un grid search donde modificamos parámetros de los\n",
    "# diferentes componentes del pipeline:\n",
    "G = {\"pca__n_components\": [4,8,16,24,32,40], \"knn__n_neighbors\": [1,3,4,5]}\n",
    "\n",
    "GS = GridSearchCV(pipe, G, scoring='accuracy', refit=True, cv=5)\n",
    "acc = GS.fit(X_train, y_train).score(X_test, y_test)\n",
    "print(f'Precisión: {acc:.1%} con {GS.best_params_}')"
   ]
  },
  {
   "cell_type": "markdown",
   "metadata": {},
   "source": [
    "### Ejercicio\n",
    "\n",
    "Modifica los parámetros que creas necesarios para obtener el mejor acierto posible"
   ]
  },
  {
   "cell_type": "markdown",
   "metadata": {},
   "source": [
    "## KNN para **regresión**\n",
    "\n",
    "Para ello emplearemos el dataset California Housing Dataset. Dicho dataset es un conjunto de datos clásico en el ámbito de la regresión, utilizado principalmente para predecir el precio medio de las viviendas en distintos distritos de California. Estos datos fueron extraídos originalmente del censo de Estados Unidos en 1990, y su objetivo es proporcionar información relevante sobre las características demográficas y geográficas de los distritos que afectan al precio de las viviendas."
   ]
  },
  {
   "cell_type": "code",
   "execution_count": null,
   "metadata": {},
   "outputs": [],
   "source": [
    "from sklearn.datasets import fetch_california_housing\n",
    "from sklearn.model_selection import train_test_split\n",
    "from sklearn.neighbors import KNeighborsRegressor\n",
    "from sklearn.metrics import mean_squared_error\n",
    "import numpy as np\n",
    "\n",
    "data = fetch_california_housing()\n",
    "\n",
    "X = data.data\n",
    "y = data.target\n",
    "\n",
    "X_train, X_test, y_train, y_test = train_test_split(X, y, test_size=0.2, random_state=42)\n",
    "\n",
    "knn_regressor = KNeighborsRegressor(n_neighbors=5)\n",
    "\n",
    "knn_regressor.fit(X_train, y_train)\n",
    "\n",
    "y_pred = knn_regressor.predict(X_test)\n",
    "\n",
    "mse = mean_squared_error(y_test, y_pred)\n",
    "\n",
    "print(f\"Mean Squared Error: {mse}\")\n",
    "print(f\"Sample Predictions: {y_pred[:10]}\")\n"
   ]
  },
  {
   "cell_type": "markdown",
   "metadata": {},
   "source": [
    "### Ejercicio\n",
    "\n",
    "Modifica los parámetros que creas necesarios para obtener el menor error posible. Emplea validación cruzada."
   ]
  }
 ],
 "metadata": {
  "kernelspec": {
   "display_name": "Python 3.6.10 ('base')",
   "language": "python",
   "name": "python3"
  },
  "language_info": {
   "codemirror_mode": {
    "name": "ipython",
    "version": 3
   },
   "file_extension": ".py",
   "mimetype": "text/x-python",
   "name": "python",
   "nbconvert_exporter": "python",
   "pygments_lexer": "ipython3",
   "version": "3.6.10"
  },
  "orig_nbformat": 4,
  "vscode": {
   "interpreter": {
    "hash": "a3d66e091dbc1585363e043a3a2f918bc184b70b8d651cbd15f0740c4f1f7401"
   }
  }
 },
 "nbformat": 4,
 "nbformat_minor": 2
}
